{
 "cells": [
  {
   "metadata": {},
   "cell_type": "markdown",
   "source": "# EDA - Evaluate Student Summaries",
   "id": "3d154468134e511d"
  },
  {
   "metadata": {},
   "cell_type": "markdown",
   "source": [
    "# Libro de Variables\n",
    "\n",
    "## Prompts\n",
    "- **prompt_id**: \n",
    "    - Identificador único para la información del texto que debe de ser resumido.\n",
    "    - Tipo: String\n",
    "- **prompt_question**: \n",
    "    - Pregunta que se le hace al estudiante para que resuma el texto.\n",
    "    - Tipo: String\n",
    "- **prompt_title**: \n",
    "    - Un título sobre el texto que debe de ser resumido.\n",
    "    - Tipo: String\n",
    "- **prompt_text**: \n",
    "    - Texto que debe de ser resumido.\n",
    "    - Tipo: String\n",
    "\n",
    "\n",
    "## Summaries\n",
    "- **student_id**:\n",
    "    - Identificador único para el estudiante.\n",
    "    - Tipo: String \n",
    "- **prompt_id**:\n",
    "    - Identificador único para la información del texto que debe de ser resumido. Hace referencia al `prompt_id` de la tabla Prompts.\n",
    "    - Tipo: String\n",
    "- **text**:\n",
    "    - El resumen hecho por el estudiante\n",
    "    - Tipo: String\n",
    "- **content**:\n",
    "    - Un valor numérico que indica la calidad del resumen hecho por el estudiante. (El primer criterio de evaluación o _target_)\n",
    "    - Tipo: Float\n",
    "- **wording**:\n",
    "    - Un valor numérico que indica la calidad de las palabras usadas en el resumen hecho por el estudiante. (El segundo criterio de evaluación o _target_)\n",
    "    - Tipo: Float"
   ],
   "id": "1e0100489a283c57"
  },
  {
   "metadata": {},
   "cell_type": "markdown",
   "source": "# Análisis de Datos Exploratorio",
   "id": "b40dcbc29766f75d"
  },
  {
   "metadata": {},
   "cell_type": "markdown",
   "source": "## Librerías utilizadas",
   "id": "dfa090bb4ce244a0"
  },
  {
   "metadata": {
    "ExecuteTime": {
     "end_time": "2024-09-06T18:39:27.795478Z",
     "start_time": "2024-09-06T18:39:25.917951Z"
    }
   },
   "cell_type": "code",
   "source": [
    "import pandas as pd\n",
    "import numpy as np\n",
    "import matplotlib.pyplot as plt\n",
    "import seaborn as sns\n",
    "import nltk\n",
    "from wordcloud import WordCloud\n",
    "import string"
   ],
   "id": "56e8a91829573f0c",
   "outputs": [],
   "execution_count": 1
  },
  {
   "metadata": {},
   "cell_type": "code",
   "outputs": [],
   "execution_count": null,
   "source": "nltk.download('stopwords')",
   "id": "13489ae1ded72cf9"
  },
  {
   "metadata": {},
   "cell_type": "markdown",
   "source": "## Carga de datos",
   "id": "a50775a705ec528f"
  },
  {
   "cell_type": "code",
   "id": "initial_id",
   "metadata": {
    "collapsed": true,
    "ExecuteTime": {
     "end_time": "2024-09-06T18:39:27.862478Z",
     "start_time": "2024-09-06T18:39:27.796483Z"
    }
   },
   "source": [
    "df_prompts = pd.read_csv('../data/prompts_train.csv')\n",
    "df_prompts.head()"
   ],
   "outputs": [
    {
     "data": {
      "text/plain": [
       "  prompt_id                                    prompt_question  \\\n",
       "0    39c16e  Summarize at least 3 elements of an ideal trag...   \n",
       "1    3b9047  In complete sentences, summarize the structure...   \n",
       "2    814d6b  Summarize how the Third Wave developed over su...   \n",
       "3    ebad26  Summarize the various ways the factory would u...   \n",
       "\n",
       "                prompt_title  \\\n",
       "0                 On Tragedy   \n",
       "1  Egyptian Social Structure   \n",
       "2             The Third Wave   \n",
       "3    Excerpt from The Jungle   \n",
       "\n",
       "                                         prompt_text  \n",
       "0  Chapter 13 \\r\\nAs the sequel to what has alrea...  \n",
       "1  Egyptian society was structured like a pyramid...  \n",
       "2  Background \\r\\nThe Third Wave experiment took ...  \n",
       "3  With one member trimming beef in a cannery, an...  "
      ],
      "text/html": [
       "<div>\n",
       "<style scoped>\n",
       "    .dataframe tbody tr th:only-of-type {\n",
       "        vertical-align: middle;\n",
       "    }\n",
       "\n",
       "    .dataframe tbody tr th {\n",
       "        vertical-align: top;\n",
       "    }\n",
       "\n",
       "    .dataframe thead th {\n",
       "        text-align: right;\n",
       "    }\n",
       "</style>\n",
       "<table border=\"1\" class=\"dataframe\">\n",
       "  <thead>\n",
       "    <tr style=\"text-align: right;\">\n",
       "      <th></th>\n",
       "      <th>prompt_id</th>\n",
       "      <th>prompt_question</th>\n",
       "      <th>prompt_title</th>\n",
       "      <th>prompt_text</th>\n",
       "    </tr>\n",
       "  </thead>\n",
       "  <tbody>\n",
       "    <tr>\n",
       "      <th>0</th>\n",
       "      <td>39c16e</td>\n",
       "      <td>Summarize at least 3 elements of an ideal trag...</td>\n",
       "      <td>On Tragedy</td>\n",
       "      <td>Chapter 13 \\r\\nAs the sequel to what has alrea...</td>\n",
       "    </tr>\n",
       "    <tr>\n",
       "      <th>1</th>\n",
       "      <td>3b9047</td>\n",
       "      <td>In complete sentences, summarize the structure...</td>\n",
       "      <td>Egyptian Social Structure</td>\n",
       "      <td>Egyptian society was structured like a pyramid...</td>\n",
       "    </tr>\n",
       "    <tr>\n",
       "      <th>2</th>\n",
       "      <td>814d6b</td>\n",
       "      <td>Summarize how the Third Wave developed over su...</td>\n",
       "      <td>The Third Wave</td>\n",
       "      <td>Background \\r\\nThe Third Wave experiment took ...</td>\n",
       "    </tr>\n",
       "    <tr>\n",
       "      <th>3</th>\n",
       "      <td>ebad26</td>\n",
       "      <td>Summarize the various ways the factory would u...</td>\n",
       "      <td>Excerpt from The Jungle</td>\n",
       "      <td>With one member trimming beef in a cannery, an...</td>\n",
       "    </tr>\n",
       "  </tbody>\n",
       "</table>\n",
       "</div>"
      ]
     },
     "execution_count": 2,
     "metadata": {},
     "output_type": "execute_result"
    }
   ],
   "execution_count": 2
  },
  {
   "metadata": {
    "ExecuteTime": {
     "end_time": "2024-09-06T18:39:27.957514Z",
     "start_time": "2024-09-06T18:39:27.864487Z"
    }
   },
   "cell_type": "code",
   "source": [
    "df_summaries = pd.read_csv('../data/summaries_train.csv')\n",
    "df_summaries.head()"
   ],
   "id": "adb638d095a51a4b",
   "outputs": [
    {
     "data": {
      "text/plain": [
       "     student_id prompt_id                                               text  \\\n",
       "0  000e8c3c7ddb    814d6b  The third wave was an experimentto see how peo...   \n",
       "1  0020ae56ffbf    ebad26  They would rub it up with soda to make the sme...   \n",
       "2  004e978e639e    3b9047  In Egypt, there were many occupations and soci...   \n",
       "3  005ab0199905    3b9047  The highest class was Pharaohs these people we...   \n",
       "4  0070c9e7af47    814d6b  The Third Wave developed  rapidly because the ...   \n",
       "\n",
       "    content   wording  \n",
       "0  0.205683  0.380538  \n",
       "1 -0.548304  0.506755  \n",
       "2  3.128928  4.231226  \n",
       "3 -0.210614 -0.471415  \n",
       "4  3.272894  3.219757  "
      ],
      "text/html": [
       "<div>\n",
       "<style scoped>\n",
       "    .dataframe tbody tr th:only-of-type {\n",
       "        vertical-align: middle;\n",
       "    }\n",
       "\n",
       "    .dataframe tbody tr th {\n",
       "        vertical-align: top;\n",
       "    }\n",
       "\n",
       "    .dataframe thead th {\n",
       "        text-align: right;\n",
       "    }\n",
       "</style>\n",
       "<table border=\"1\" class=\"dataframe\">\n",
       "  <thead>\n",
       "    <tr style=\"text-align: right;\">\n",
       "      <th></th>\n",
       "      <th>student_id</th>\n",
       "      <th>prompt_id</th>\n",
       "      <th>text</th>\n",
       "      <th>content</th>\n",
       "      <th>wording</th>\n",
       "    </tr>\n",
       "  </thead>\n",
       "  <tbody>\n",
       "    <tr>\n",
       "      <th>0</th>\n",
       "      <td>000e8c3c7ddb</td>\n",
       "      <td>814d6b</td>\n",
       "      <td>The third wave was an experimentto see how peo...</td>\n",
       "      <td>0.205683</td>\n",
       "      <td>0.380538</td>\n",
       "    </tr>\n",
       "    <tr>\n",
       "      <th>1</th>\n",
       "      <td>0020ae56ffbf</td>\n",
       "      <td>ebad26</td>\n",
       "      <td>They would rub it up with soda to make the sme...</td>\n",
       "      <td>-0.548304</td>\n",
       "      <td>0.506755</td>\n",
       "    </tr>\n",
       "    <tr>\n",
       "      <th>2</th>\n",
       "      <td>004e978e639e</td>\n",
       "      <td>3b9047</td>\n",
       "      <td>In Egypt, there were many occupations and soci...</td>\n",
       "      <td>3.128928</td>\n",
       "      <td>4.231226</td>\n",
       "    </tr>\n",
       "    <tr>\n",
       "      <th>3</th>\n",
       "      <td>005ab0199905</td>\n",
       "      <td>3b9047</td>\n",
       "      <td>The highest class was Pharaohs these people we...</td>\n",
       "      <td>-0.210614</td>\n",
       "      <td>-0.471415</td>\n",
       "    </tr>\n",
       "    <tr>\n",
       "      <th>4</th>\n",
       "      <td>0070c9e7af47</td>\n",
       "      <td>814d6b</td>\n",
       "      <td>The Third Wave developed  rapidly because the ...</td>\n",
       "      <td>3.272894</td>\n",
       "      <td>3.219757</td>\n",
       "    </tr>\n",
       "  </tbody>\n",
       "</table>\n",
       "</div>"
      ]
     },
     "execution_count": 3,
     "metadata": {},
     "output_type": "execute_result"
    }
   ],
   "execution_count": 3
  },
  {
   "metadata": {},
   "cell_type": "markdown",
   "source": "## Conversión del tipo de datos",
   "id": "3581fd9144bfdad1"
  },
  {
   "metadata": {
    "ExecuteTime": {
     "end_time": "2024-09-06T18:39:27.966229Z",
     "start_time": "2024-09-06T18:39:27.958521Z"
    }
   },
   "cell_type": "code",
   "source": [
    "to_string = ['prompt_id', 'prompt_question', 'prompt_title', 'prompt_text']\n",
    "df_prompts[to_string] = df_prompts[to_string].astype(str)"
   ],
   "id": "de2cbb1c8815f55e",
   "outputs": [],
   "execution_count": 4
  },
  {
   "metadata": {
    "ExecuteTime": {
     "end_time": "2024-09-06T18:39:27.983222Z",
     "start_time": "2024-09-06T18:39:27.967236Z"
    }
   },
   "cell_type": "code",
   "source": [
    "to_string = ['student_id', 'prompt_id', 'text']\n",
    "to_float = ['content', 'wording']\n",
    "df_summaries[to_string] = df_summaries[to_string].astype(str)\n",
    "df_summaries[to_float] = df_summaries[to_float].astype(float)"
   ],
   "id": "d484b582a0a305ee",
   "outputs": [],
   "execution_count": 5
  },
  {
   "metadata": {},
   "cell_type": "markdown",
   "source": "## Preprocesamiento de texto",
   "id": "f4e801d81870914d"
  },
  {
   "metadata": {},
   "cell_type": "code",
   "outputs": [],
   "execution_count": null,
   "source": [
    "def remove_punctuation(text):\n",
    "    return text.translate(str.maketrans('', '', string.punctuation))"
   ],
   "id": "438837e62e902e7a"
  },
  {
   "metadata": {},
   "cell_type": "code",
   "outputs": [],
   "execution_count": null,
   "source": [
    "def remove_stopwords(text):\n",
    "    stopwords = set(nltk.corpus.stopwords.words('english'))\n",
    "    return ' '.join([word for word in text.split() if word.lower() not in stopwords])"
   ],
   "id": "b8de2cc857cca3d"
  },
  {
   "metadata": {},
   "cell_type": "code",
   "outputs": [],
   "execution_count": null,
   "source": [
    "def lemmatize_text(text):\n",
    "    lemmatizer = nltk.stem.WordNetLemmatizer()\n",
    "    return ' '.join([lemmatizer.lemmatize(word) for word in text.split()])"
   ],
   "id": "dd81976d218689fe"
  },
  {
   "metadata": {},
   "cell_type": "code",
   "outputs": [],
   "execution_count": null,
   "source": [
    "def preprocess_text(text):\n",
    "    text = remove_punctuation(text)\n",
    "    text = remove_stopwords(text)\n",
    "    text = lemmatize_text(text)\n",
    "    return text"
   ],
   "id": "482f8855f9e9a231"
  },
  {
   "metadata": {},
   "cell_type": "code",
   "outputs": [],
   "execution_count": null,
   "source": "df_prompts['prompt_text'] = df_prompts['prompt_text'].apply(preprocess_text)",
   "id": "e76a63e0dfd17b94"
  },
  {
   "metadata": {},
   "cell_type": "code",
   "outputs": [],
   "execution_count": null,
   "source": "df_summaries['text'] = df_summaries['text'].apply(preprocess_text)",
   "id": "930ad125b4734e9"
  },
  {
   "metadata": {},
   "cell_type": "markdown",
   "source": "## Análisis de Datos",
   "id": "96a78f1d4a927924"
  },
  {
   "metadata": {},
   "cell_type": "markdown",
   "source": "### Forma de los datos",
   "id": "4a5aceff62a823ed"
  },
  {
   "metadata": {},
   "cell_type": "markdown",
   "source": "#### Prompts",
   "id": "fd9719543fa75409"
  },
  {
   "metadata": {
    "ExecuteTime": {
     "end_time": "2024-09-06T18:39:27.992604Z",
     "start_time": "2024-09-06T18:39:27.984218Z"
    }
   },
   "cell_type": "code",
   "source": [
    "print(f\"La tabla de Prompts tiene {df_prompts.shape[0]} observaciones y {df_prompts.shape[1]} columnas.\")\n",
    "for col in df_prompts.columns:\n",
    "    print(f\"\\t- {col}: {df_prompts[col].dtype}\")"
   ],
   "id": "6f474af68e2b3905",
   "outputs": [
    {
     "name": "stdout",
     "output_type": "stream",
     "text": [
      "La tabla de Prompts tiene 4 observaciones y 4 columnas.\n",
      "\t- prompt_id: object\n",
      "\t- prompt_question: object\n",
      "\t- prompt_title: object\n",
      "\t- prompt_text: object\n"
     ]
    }
   ],
   "execution_count": 6
  },
  {
   "metadata": {},
   "cell_type": "markdown",
   "source": "#### Summaries",
   "id": "d79f6a5493984980"
  },
  {
   "metadata": {
    "ExecuteTime": {
     "end_time": "2024-09-06T18:39:28.006539Z",
     "start_time": "2024-09-06T18:39:27.993602Z"
    }
   },
   "cell_type": "code",
   "source": [
    "print(f\"La tabla de Summaries tiene {df_summaries.shape[0]} observaciones y {df_summaries.shape[1]} columnas.\")\n",
    "for col in df_summaries.columns:\n",
    "    print(f\"\\t- {col}: {df_summaries[col].dtype}\")"
   ],
   "id": "3b9634e6c1cc2497",
   "outputs": [
    {
     "name": "stdout",
     "output_type": "stream",
     "text": [
      "La tabla de Summaries tiene 7165 observaciones y 5 columnas.\n",
      "\t- student_id: object\n",
      "\t- prompt_id: object\n",
      "\t- text: object\n",
      "\t- content: float64\n",
      "\t- wording: float64\n"
     ]
    }
   ],
   "execution_count": 7
  },
  {
   "metadata": {},
   "cell_type": "markdown",
   "source": [
    "### Resumen de los datos\n",
    "En el conjunto de datos, para este problema en específico, no existen variables categóricas, por lo que no se puede hacer un análisis de frecuencia de las variables. En cuanto a las variables numéricas, se puede analizar la calidad de los textos resumidos por los estudiantes."
   ],
   "id": "5ecf004b76ca702"
  },
  {
   "metadata": {
    "ExecuteTime": {
     "end_time": "2024-09-06T18:39:28.064692Z",
     "start_time": "2024-09-06T18:39:28.007560Z"
    }
   },
   "cell_type": "code",
   "source": "df_summaries.describe()",
   "id": "817680028af4f1d8",
   "outputs": [
    {
     "data": {
      "text/plain": [
       "           content      wording\n",
       "count  7165.000000  7165.000000\n",
       "mean     -0.014853    -0.063072\n",
       "std       1.043569     1.036048\n",
       "min      -1.729859    -1.962614\n",
       "25%      -0.799545    -0.872720\n",
       "50%      -0.093814    -0.081769\n",
       "75%       0.499660     0.503833\n",
       "max       3.900326     4.310693"
      ],
      "text/html": [
       "<div>\n",
       "<style scoped>\n",
       "    .dataframe tbody tr th:only-of-type {\n",
       "        vertical-align: middle;\n",
       "    }\n",
       "\n",
       "    .dataframe tbody tr th {\n",
       "        vertical-align: top;\n",
       "    }\n",
       "\n",
       "    .dataframe thead th {\n",
       "        text-align: right;\n",
       "    }\n",
       "</style>\n",
       "<table border=\"1\" class=\"dataframe\">\n",
       "  <thead>\n",
       "    <tr style=\"text-align: right;\">\n",
       "      <th></th>\n",
       "      <th>content</th>\n",
       "      <th>wording</th>\n",
       "    </tr>\n",
       "  </thead>\n",
       "  <tbody>\n",
       "    <tr>\n",
       "      <th>count</th>\n",
       "      <td>7165.000000</td>\n",
       "      <td>7165.000000</td>\n",
       "    </tr>\n",
       "    <tr>\n",
       "      <th>mean</th>\n",
       "      <td>-0.014853</td>\n",
       "      <td>-0.063072</td>\n",
       "    </tr>\n",
       "    <tr>\n",
       "      <th>std</th>\n",
       "      <td>1.043569</td>\n",
       "      <td>1.036048</td>\n",
       "    </tr>\n",
       "    <tr>\n",
       "      <th>min</th>\n",
       "      <td>-1.729859</td>\n",
       "      <td>-1.962614</td>\n",
       "    </tr>\n",
       "    <tr>\n",
       "      <th>25%</th>\n",
       "      <td>-0.799545</td>\n",
       "      <td>-0.872720</td>\n",
       "    </tr>\n",
       "    <tr>\n",
       "      <th>50%</th>\n",
       "      <td>-0.093814</td>\n",
       "      <td>-0.081769</td>\n",
       "    </tr>\n",
       "    <tr>\n",
       "      <th>75%</th>\n",
       "      <td>0.499660</td>\n",
       "      <td>0.503833</td>\n",
       "    </tr>\n",
       "    <tr>\n",
       "      <th>max</th>\n",
       "      <td>3.900326</td>\n",
       "      <td>4.310693</td>\n",
       "    </tr>\n",
       "  </tbody>\n",
       "</table>\n",
       "</div>"
      ]
     },
     "execution_count": 8,
     "metadata": {},
     "output_type": "execute_result"
    }
   ],
   "execution_count": 8
  },
  {
   "metadata": {
    "ExecuteTime": {
     "end_time": "2024-09-06T18:39:28.715537Z",
     "start_time": "2024-09-06T18:39:28.066712Z"
    }
   },
   "cell_type": "code",
   "source": [
    "# Increase plot size and adjust subplots\n",
    "plt.figure(figsize=(14, 7))\n",
    "\n",
    "# Adjust the first subplot (Content)\n",
    "plt.subplot(1, 2, 1)\n",
    "sns.histplot(df_summaries['content'], bins=15, kde=True, color='skyblue', alpha=0.6)\n",
    "plt.title('Content', fontsize=14)\n",
    "plt.xlabel('Content Length', fontsize=12)\n",
    "plt.ylabel('Frequency', fontsize=12)\n",
    "\n",
    "# Adjust the second subplot (Wording)\n",
    "plt.subplot(1, 2, 2)\n",
    "sns.histplot(df_summaries['wording'], bins=15, kde=True, color='salmon', alpha=0.6)\n",
    "plt.title('Wording', fontsize=14)\n",
    "plt.xlabel('Wording Length', fontsize=12)\n",
    "plt.ylabel('Frequency', fontsize=12)\n",
    "\n",
    "# Improve layout\n",
    "plt.tight_layout()\n",
    "\n",
    "# Show plot\n",
    "plt.show()"
   ],
   "id": "3ed9dfab6e7b53f0",
   "outputs": [
    {
     "data": {
      "text/plain": [
       "<Figure size 1400x700 with 2 Axes>"
      ],
      "image/png": "[encoded data removed]"
     },
     "metadata": {},
     "output_type": "display_data"
    }
   ],
   "execution_count": 9
  },
  {
   "metadata": {},
   "cell_type": "markdown",
   "source": [
    "**Content**\n",
    "- La distribución de las calificaciones de los resúmenes hechos por los estudiantes en cuanto a la calidad del contenido es bastante se encuentra sesgada a la derecha. \n",
    "# AGREGAR MÁS DISCUSIÓN ACÁ ABAJO"
   ],
   "id": "9314c4bc3d41ea31"
  },
  {
   "metadata": {},
   "cell_type": "markdown",
   "source": "### Wordcloud",
   "id": "d70843f2d0ccb3c9"
  },
  {
   "metadata": {
    "ExecuteTime": {
     "end_time": "2024-09-06T18:39:28.718935Z",
     "start_time": "2024-09-06T18:39:28.716543Z"
    }
   },
   "cell_type": "code",
   "source": "",
   "id": "75474a7cde91e35a",
   "outputs": [],
   "execution_count": 9
  }
 ],
 "metadata": {
  "kernelspec": {
   "display_name": "Python 3",
   "language": "python",
   "name": "python3"
  },
  "language_info": {
   "codemirror_mode": {
    "name": "ipython",
    "version": 2
   },
   "file_extension": ".py",
   "mimetype": "text/x-python",
   "name": "python",
   "nbconvert_exporter": "python",
   "pygments_lexer": "ipython2",
   "version": "2.7.6"
  }
 },
 "nbformat": 4,
 "nbformat_minor": 5
}
